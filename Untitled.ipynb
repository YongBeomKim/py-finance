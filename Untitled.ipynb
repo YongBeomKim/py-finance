{
 "cells": [
  {
   "cell_type": "markdown",
   "id": "fabulous-simple",
   "metadata": {},
   "source": [
    "# **Chapter 01 금융 데이터와 전처리**\n",
    "https://github.com/FinanceData/FinanceDataReader\n",
    "- ! pip install finance-datareader\n",
    "- ! pip install beautifulsoup4"
   ]
  },
  {
   "cell_type": "code",
   "execution_count": 7,
   "id": "owned-power",
   "metadata": {},
   "outputs": [
    {
     "data": {
      "text/html": [
       "<div>\n",
       "<style scoped>\n",
       "    .dataframe tbody tr th:only-of-type {\n",
       "        vertical-align: middle;\n",
       "    }\n",
       "\n",
       "    .dataframe tbody tr th {\n",
       "        vertical-align: top;\n",
       "    }\n",
       "\n",
       "    .dataframe thead th {\n",
       "        text-align: right;\n",
       "    }\n",
       "</style>\n",
       "<table border=\"1\" class=\"dataframe\">\n",
       "  <thead>\n",
       "    <tr style=\"text-align: right;\">\n",
       "      <th></th>\n",
       "      <th>Open</th>\n",
       "      <th>High</th>\n",
       "      <th>Low</th>\n",
       "      <th>Close</th>\n",
       "      <th>Volume</th>\n",
       "      <th>Change</th>\n",
       "    </tr>\n",
       "    <tr>\n",
       "      <th>Date</th>\n",
       "      <th></th>\n",
       "      <th></th>\n",
       "      <th></th>\n",
       "      <th></th>\n",
       "      <th></th>\n",
       "      <th></th>\n",
       "    </tr>\n",
       "  </thead>\n",
       "  <tbody>\n",
       "    <tr>\n",
       "      <th>2021-02-26</th>\n",
       "      <td>82800</td>\n",
       "      <td>83400</td>\n",
       "      <td>82000</td>\n",
       "      <td>82500</td>\n",
       "      <td>38520800</td>\n",
       "      <td>-0.032825</td>\n",
       "    </tr>\n",
       "    <tr>\n",
       "      <th>2021-03-02</th>\n",
       "      <td>85100</td>\n",
       "      <td>85300</td>\n",
       "      <td>83000</td>\n",
       "      <td>83600</td>\n",
       "      <td>33498180</td>\n",
       "      <td>0.013333</td>\n",
       "    </tr>\n",
       "    <tr>\n",
       "      <th>2021-03-03</th>\n",
       "      <td>83500</td>\n",
       "      <td>84000</td>\n",
       "      <td>82800</td>\n",
       "      <td>84000</td>\n",
       "      <td>19882132</td>\n",
       "      <td>0.004785</td>\n",
       "    </tr>\n",
       "    <tr>\n",
       "      <th>2021-03-04</th>\n",
       "      <td>82600</td>\n",
       "      <td>83200</td>\n",
       "      <td>82200</td>\n",
       "      <td>82400</td>\n",
       "      <td>24348331</td>\n",
       "      <td>-0.019048</td>\n",
       "    </tr>\n",
       "    <tr>\n",
       "      <th>2021-03-05</th>\n",
       "      <td>81100</td>\n",
       "      <td>82600</td>\n",
       "      <td>81100</td>\n",
       "      <td>82100</td>\n",
       "      <td>20352427</td>\n",
       "      <td>-0.003641</td>\n",
       "    </tr>\n",
       "  </tbody>\n",
       "</table>\n",
       "</div>"
      ],
      "text/plain": [
       "             Open   High    Low  Close    Volume    Change\n",
       "Date                                                      \n",
       "2021-02-26  82800  83400  82000  82500  38520800 -0.032825\n",
       "2021-03-02  85100  85300  83000  83600  33498180  0.013333\n",
       "2021-03-03  83500  84000  82800  84000  19882132  0.004785\n",
       "2021-03-04  82600  83200  82200  82400  24348331 -0.019048\n",
       "2021-03-05  81100  82600  81100  82100  20352427 -0.003641"
      ]
     },
     "execution_count": 7,
     "metadata": {},
     "output_type": "execute_result"
    }
   ],
   "source": [
    "from FinanceDataReader import DataReader as fdr\n",
    "data_stock = fdr('005930', '2020-01-01')\n",
    "data_stock.tail()"
   ]
  },
  {
   "cell_type": "code",
   "execution_count": 37,
   "id": "neutral-stroke",
   "metadata": {},
   "outputs": [
    {
     "data": {
      "text/html": [
       "<div>\n",
       "<style scoped>\n",
       "    .dataframe tbody tr th:only-of-type {\n",
       "        vertical-align: middle;\n",
       "    }\n",
       "\n",
       "    .dataframe tbody tr th {\n",
       "        vertical-align: top;\n",
       "    }\n",
       "\n",
       "    .dataframe thead th {\n",
       "        text-align: right;\n",
       "    }\n",
       "</style>\n",
       "<table border=\"1\" class=\"dataframe\">\n",
       "  <thead>\n",
       "    <tr style=\"text-align: right;\">\n",
       "      <th></th>\n",
       "      <th>close</th>\n",
       "      <th>simple_rtn</th>\n",
       "      <th>log_rtn</th>\n",
       "    </tr>\n",
       "    <tr>\n",
       "      <th>Date</th>\n",
       "      <th></th>\n",
       "      <th></th>\n",
       "      <th></th>\n",
       "    </tr>\n",
       "  </thead>\n",
       "  <tbody>\n",
       "    <tr>\n",
       "      <th>2020-01-02</th>\n",
       "      <td>55200</td>\n",
       "      <td>NaN</td>\n",
       "      <td>NaN</td>\n",
       "    </tr>\n",
       "    <tr>\n",
       "      <th>2020-01-03</th>\n",
       "      <td>55500</td>\n",
       "      <td>0.005435</td>\n",
       "      <td>0.00542</td>\n",
       "    </tr>\n",
       "    <tr>\n",
       "      <th>2020-01-06</th>\n",
       "      <td>55500</td>\n",
       "      <td>0.000000</td>\n",
       "      <td>0.00000</td>\n",
       "    </tr>\n",
       "  </tbody>\n",
       "</table>\n",
       "</div>"
      ],
      "text/plain": [
       "            close  simple_rtn  log_rtn\n",
       "Date                                  \n",
       "2020-01-02  55200         NaN      NaN\n",
       "2020-01-03  55500    0.005435  0.00542\n",
       "2020-01-06  55500    0.000000  0.00000"
      ]
     },
     "execution_count": 37,
     "metadata": {},
     "output_type": "execute_result"
    }
   ],
   "source": [
    "import numpy as np\n",
    "# df = data_stock.loc[:, 'Close']  # Series 로 데이터 추출\n",
    "df = data_stock.loc[:, ['Close']] # DataFrame 으로 데이터 추출\n",
    "df.rename(columns={'Close':'close'}, inplace=True)\n",
    "\n",
    "df['simple_rtn'] = df.close.pct_change()              # 단순 수익률 계산\n",
    "df['log_rtn'] = np.log(df.close / df.close.shift(1))  # Log 수익률 계산\n",
    "df.head(3)"
   ]
  },
  {
   "cell_type": "code",
   "execution_count": 40,
   "id": "genuine-camera",
   "metadata": {},
   "outputs": [
    {
     "data": {
      "text/plain": [
       "<AxesSubplot:xlabel='Date'>"
      ]
     },
     "execution_count": 40,
     "metadata": {},
     "output_type": "execute_result"
    },
    {
     "data": {
      "image/png": "[encoded data removed]",
      "text/plain": [
       "<Figure size 432x288 with 1 Axes>"
      ]
     },
     "metadata": {
      "needs_background": "light"
     },
     "output_type": "display_data"
    }
   ],
   "source": [
    "%matplotlib inline\n",
    "df.log_rtn.plot()\n",
    "df.simple_rtn.plot()"
   ]
  },
  {
   "cell_type": "code",
   "execution_count": null,
   "id": "blind-interim",
   "metadata": {},
   "outputs": [],
   "source": []
  }
 ],
 "metadata": {
  "kernelspec": {
   "display_name": "Python 3",
   "language": "python",
   "name": "python3"
  },
  "language_info": {
   "codemirror_mode": {
    "name": "ipython",
    "version": 3
   },
   "file_extension": ".py",
   "mimetype": "text/x-python",
   "name": "python",
   "nbconvert_exporter": "python",
   "pygments_lexer": "ipython3",
   "version": "3.8.5"
  }
 },
 "nbformat": 4,
 "nbformat_minor": 5
}
